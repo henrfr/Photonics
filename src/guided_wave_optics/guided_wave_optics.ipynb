{
 "cells": [
  {
   "cell_type": "code",
   "execution_count": 3,
   "metadata": {},
   "outputs": [],
   "source": [
    "import numpy as np\n",
    "import matplotlib.pyplot as plt"
   ]
  },
  {
   "cell_type": "code",
   "execution_count": 4,
   "metadata": {},
   "outputs": [],
   "source": [
    "def critical_angle(n1, n2):\n",
    "    return np.arcsin(n2/n1)\n",
    "def comp_critical_angle(n1, n2):\n",
    "    return np.arccos(n2/n1)\n",
    "def NA(n1, n2):\n",
    "    return np.sqrt(n1**2 - n2**2)\n",
    "def acceptance_angle(n1, n2):\n",
    "    return np.arcsin(NA(n1,n2))\n",
    "def n_TE_modes(d, wavelength, na):\n",
    "    return np.ceil(2*d*na/wavelength)"
   ]
  },
  {
   "cell_type": "markdown",
   "metadata": {},
   "source": [
    "## The Self-Consistency Condition for TE Modes\n",
    "Below is a graphical solution to the equation expressed in terms of x = sin(x)."
   ]
  },
  {
   "cell_type": "code",
   "execution_count": 48,
   "metadata": {},
   "outputs": [],
   "source": [
    "def LHS(d: float, wavelength: float, x: float, n1: float, m: int) -> float:\n",
    "    return np.tan((np.pi*d*n1/wavelength)*x - m*np.pi/2)\n",
    "def RHS(n1: float, n2: float, x: float) -> float:\n",
    "    return np.sqrt((np.sin(comp_critical_angle(n1,n2)))**2/x**2 - 1)"
   ]
  },
  {
   "cell_type": "code",
   "execution_count": 49,
   "metadata": {},
   "outputs": [
    {
     "name": "stderr",
     "output_type": "stream",
     "text": [
      "C:\\Users\\henri\\AppData\\Local\\Temp\\ipykernel_19704\\1964903119.py:4: RuntimeWarning: invalid value encountered in sqrt\n",
      "  return np.sqrt((np.sin(comp_critical_angle(n1,n2)))**2/x**2 - 1)\n"
     ]
    },
    {
     "data": {
      "text/plain": [
       "(-10.0, 10.0)"
      ]
     },
     "execution_count": 49,
     "metadata": {},
     "output_type": "execute_result"
    }
   ],
   "source": [
    "%matplotlib qt\n",
    "x = np.sin(np.linspace(0.00001, 1, 1000)) # x := sin(x)\n",
    "fig, ax = plt.subplots()\n",
    "ax.plot(x, LHS(2, 0.87, x, 1.6, 0), color=\"blue\")\n",
    "ax.plot(x, RHS(1.6,1.4,x), color=\"red\")\n",
    "ax.set_ylim(-10,10)"
   ]
  },
  {
   "cell_type": "code",
   "execution_count": null,
   "metadata": {},
   "outputs": [],
   "source": []
  }
 ],
 "metadata": {
  "kernelspec": {
   "display_name": "Python 3.9.7 ('numFys')",
   "language": "python",
   "name": "python3"
  },
  "language_info": {
   "codemirror_mode": {
    "name": "ipython",
    "version": 3
   },
   "file_extension": ".py",
   "mimetype": "text/x-python",
   "name": "python",
   "nbconvert_exporter": "python",
   "pygments_lexer": "ipython3",
   "version": "3.9.7"
  },
  "orig_nbformat": 4,
  "vscode": {
   "interpreter": {
    "hash": "ae8083cee538186a94ba51721626a4ada8850a077e0db502baa370660469e94b"
   }
  }
 },
 "nbformat": 4,
 "nbformat_minor": 2
}
